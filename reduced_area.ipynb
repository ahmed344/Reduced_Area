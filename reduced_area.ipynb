{
 "cells": [
  {
   "cell_type": "code",
   "execution_count": 1,
   "id": "deab596a-0249-444f-91b2-47a842b34e62",
   "metadata": {},
   "outputs": [],
   "source": [
    "import numpy as np\n",
    "import pandas as pd\n",
    "from scipy.stats import mannwhitneyu"
   ]
  },
  {
   "cell_type": "markdown",
   "id": "4d388ae6-9098-4fd4-b6c6-ea568c9e1b67",
   "metadata": {},
   "source": [
    "### Read the data"
   ]
  },
  {
   "cell_type": "code",
   "execution_count": 2,
   "id": "eee7bb5b-6d35-4592-ad8a-9da997779527",
   "metadata": {},
   "outputs": [],
   "source": [
    "# Read the csv files for each experiment\n",
    "csv_dppc5 = pd.read_csv('Data/20220111_RA_DPPC5.csv')\n",
    "csv_sopc5 = pd.read_csv('Data/20220111_RA_SOPC5.csv')\n",
    "\n",
    "csv_dppc3 = pd.read_csv('Data/20220722_RA_DPPC3.csv')\n",
    "csv_sopc3 = pd.read_csv('Data/20220513_RA_SOPC3.csv')\n",
    "\n",
    "csv_sopc2 = pd.read_csv('Data/20220125_RA_SOPC2.csv')"
   ]
  },
  {
   "cell_type": "markdown",
   "id": "baf738bf-8cad-4fae-ae3d-ac97881e664b",
   "metadata": {},
   "source": [
    "### Transform the csv files into data frames of Phase Contrast, RICM and Reduced Area."
   ]
  },
  {
   "cell_type": "code",
   "execution_count": 3,
   "id": "19ecf0f8-09a5-4f91-baf0-9aed387b8b28",
   "metadata": {},
   "outputs": [],
   "source": [
    "# Make the dataframes from the csv giving the odd values to the phase contrast and the even values to the RICM (Don't forget to add the scale when you need it)\n",
    "df_dppc5 = pd.DataFrame({'PhC':csv_dppc5.iloc[::2].Area.values, 'RICM':csv_dppc5.iloc[1::2].Area.values})\n",
    "df_sopc5 = pd.DataFrame({'PhC':csv_sopc5.iloc[::2].Area.values, 'RICM':csv_sopc5.iloc[1::2].Area.values})\n",
    "\n",
    "df_dppc3 = pd.DataFrame({'PhC':csv_dppc3.iloc[::2].Area.values*0.125**2, 'RICM':csv_dppc3.iloc[1::2].Area.values*0.125**2})\n",
    "df_sopc3 = pd.DataFrame({'PhC':csv_sopc3.iloc[::2].Area.values*0.125**2, 'RICM':csv_sopc3.iloc[1::2].Area.values*0.125**2})\n",
    "\n",
    "df_sopc2 = pd.DataFrame({'PhC':csv_sopc2.iloc[::2].Area.values, 'RICM':csv_sopc2.iloc[1::2].Area.values})\n",
    "\n",
    "\n",
    "\n",
    "# Calculate the average of the reduced area for every GUV on both SOPC and DPPC\n",
    "df_dppc5['RA'] = (df_dppc5.PhC - df_dppc5.RICM) / df_dppc5.PhC\n",
    "df_sopc5['RA'] = (df_sopc5.PhC - df_sopc5.RICM) / df_sopc5.PhC\n",
    "\n",
    "df_dppc3['RA'] = (df_dppc3.PhC - df_dppc3.RICM) / df_dppc3.PhC\n",
    "df_sopc3['RA'] = (df_sopc3.PhC - df_sopc3.RICM) / df_sopc3.PhC\n",
    "\n",
    "df_sopc2['RA'] = (df_sopc2.PhC - df_sopc2.RICM) / df_sopc2.PhC"
   ]
  },
  {
   "cell_type": "markdown",
   "id": "d8e50683-88c9-4fc0-99dd-7691e9dded58",
   "metadata": {},
   "source": [
    "### Calculate the difference of reduced area between SOPC and DPPC in 5% concentration"
   ]
  },
  {
   "cell_type": "code",
   "execution_count": 4,
   "id": "dad27e53-1e49-48d0-b3a1-e620dcdc8357",
   "metadata": {},
   "outputs": [
    {
     "name": "stdout",
     "output_type": "stream",
     "text": [
      "The Reduced area for SOPC = 0.15\n",
      "The Reduced area for DPPC = 0.27\n",
      "The difference is 0.45 %\n"
     ]
    }
   ],
   "source": [
    "# Calculate the average of the reduced area on both SOPC and DPPC\n",
    "RA_sopc5 = np.mean(df_sopc5.RA)\n",
    "RA_dppc5 = np.mean(df_dppc5.RA)\n",
    "\n",
    "print(f'The Reduced area for SOPC = {RA_sopc5:.2f}')\n",
    "print(f'The Reduced area for DPPC = {RA_dppc5:.2f}')\n",
    "print(f'The difference is {(RA_dppc5 - RA_sopc5)/RA_dppc5 :.2f} %')"
   ]
  },
  {
   "cell_type": "markdown",
   "id": "59bfbe41-d319-4fb0-8aea-d95ec71aaac8",
   "metadata": {},
   "source": [
    "### Calculate the difference of reduced area between SOPC and DPPC in 3% concentration"
   ]
  },
  {
   "cell_type": "code",
   "execution_count": 5,
   "id": "65600983-f5e1-44e3-9f8a-bccbceac8e0e",
   "metadata": {},
   "outputs": [
    {
     "name": "stdout",
     "output_type": "stream",
     "text": [
      "The Reduced area for SOPC = 0.50\n",
      "The Reduced area for DPPC = 0.70\n",
      "The difference is 0.29 %\n"
     ]
    }
   ],
   "source": [
    "# Calculate the average of the reduced area on both SOPC and DPPC\n",
    "RA_sopc3 = np.mean(df_sopc3.RA)\n",
    "RA_dppc3 = np.mean(df_dppc3.RA)\n",
    "\n",
    "print(f'The Reduced area for SOPC = {RA_sopc3:.2f}')\n",
    "print(f'The Reduced area for DPPC = {RA_dppc3:.2f}')\n",
    "print(f'The difference is {(RA_dppc3 - RA_sopc3)/RA_dppc3 :.2f} %')"
   ]
  },
  {
   "cell_type": "code",
   "execution_count": 6,
   "id": "89df9e9d-e35e-4271-8c37-f7a8d70c1d0a",
   "metadata": {},
   "outputs": [
    {
     "name": "stdout",
     "output_type": "stream",
     "text": [
      "The Reduced area for SOPC = 0.58\n"
     ]
    }
   ],
   "source": [
    "# Calculate the average of the reduced area on the SOPC\n",
    "RA_sopc2 = np.mean(df_sopc2.RA)\n",
    "\n",
    "print(f'The Reduced area for SOPC = {RA_sopc2:.2f}')"
   ]
  },
  {
   "cell_type": "markdown",
   "id": "74e466d5-f5cc-40db-a1b9-7a4986c90867",
   "metadata": {},
   "source": [
    "### Calculate the Mann-Whitney U test P-value for the difference between DPPC and SOPC in reduced area for both 5% and 3% concentration"
   ]
  },
  {
   "cell_type": "code",
   "execution_count": 7,
   "id": "0f4f1444-2eac-4a1b-adf4-72c81d27d197",
   "metadata": {},
   "outputs": [
    {
     "name": "stdout",
     "output_type": "stream",
     "text": [
      "The Mann-Whitney U test P-value for 5% = 0.44\n",
      "The Mann-Whitney U test P-value for 3% = 0.02\n"
     ]
    }
   ],
   "source": [
    "# Calculate the Mann-Whitney U test P-value\n",
    "_, p5 = mannwhitneyu(df_dppc5.RA.values, df_sopc5.RA.values)\n",
    "_, p3 = mannwhitneyu(df_dppc3.RA.values, df_sopc3.RA.values)\n",
    "\n",
    "print(f'The Mann-Whitney U test P-value for 5% = {p5:.2f}')\n",
    "print(f'The Mann-Whitney U test P-value for 3% = {p3:.2f}')"
   ]
  },
  {
   "cell_type": "markdown",
   "id": "cd299dbd-36e4-41aa-98c9-106faaf068fc",
   "metadata": {},
   "source": [
    "### Print the data fram in latex formate"
   ]
  },
  {
   "cell_type": "code",
   "execution_count": 8,
   "id": "65f92cee-712d-4045-ac81-af4781466a48",
   "metadata": {},
   "outputs": [
    {
     "name": "stdout",
     "output_type": "stream",
     "text": [
      "\\begin{tabular}{rrr}\n",
      "\\toprule\n",
      "   PhC &   RICM &   RA \\\\\n",
      "\\midrule\n",
      "164.51 &  62.85 & 0.62 \\\\\n",
      " 52.35 &  52.35 & 0.00 \\\\\n",
      " 40.88 &  40.88 & 0.00 \\\\\n",
      "212.71 &  52.22 & 0.75 \\\\\n",
      " 52.56 &  32.26 & 0.39 \\\\\n",
      "223.85 & 223.85 & 0.00 \\\\\n",
      " 57.55 &  57.55 & 0.00 \\\\\n",
      "350.69 & 105.73 & 0.70 \\\\\n",
      " 48.33 &  11.16 & 0.77 \\\\\n",
      " 94.31 &  94.31 & 0.00 \\\\\n",
      " 16.38 &  16.38 & 0.00 \\\\\n",
      " 29.90 &  29.90 & 0.00 \\\\\n",
      " 51.30 &  32.26 & 0.37 \\\\\n",
      " 86.22 &  86.22 & 0.00 \\\\\n",
      " 72.40 &  72.40 & 0.00 \\\\\n",
      "117.71 &  26.62 & 0.77 \\\\\n",
      "\\bottomrule\n",
      "\\end{tabular}\n",
      "\n",
      "\\begin{tabular}{rrr}\n",
      "\\toprule\n",
      "   PhC &   RICM &   RA \\\\\n",
      "\\midrule\n",
      "776.29 & 522.65 & 0.33 \\\\\n",
      "205.21 & 205.21 & 0.00 \\\\\n",
      "237.00 & 237.00 & 0.00 \\\\\n",
      "544.21 & 482.30 & 0.11 \\\\\n",
      "350.52 & 350.52 & 0.00 \\\\\n",
      "345.01 & 138.68 & 0.60 \\\\\n",
      "363.16 & 363.16 & 0.00 \\\\\n",
      "145.43 &  68.76 & 0.53 \\\\\n",
      "215.35 & 162.82 & 0.24 \\\\\n",
      "356.07 & 356.07 & 0.00 \\\\\n",
      "  7.37 &   7.37 & 0.00 \\\\\n",
      "  5.84 &   5.84 & 0.00 \\\\\n",
      "\\bottomrule\n",
      "\\end{tabular}\n",
      "\n",
      "\\begin{tabular}{rrr}\n",
      "\\toprule\n",
      "    PhC &   RICM &   RA \\\\\n",
      "\\midrule\n",
      " 649.31 &  80.62 & 0.88 \\\\\n",
      " 155.31 &  39.83 & 0.74 \\\\\n",
      " 263.59 & 158.28 & 0.40 \\\\\n",
      " 786.22 &  73.44 & 0.91 \\\\\n",
      " 442.56 &  84.56 & 0.81 \\\\\n",
      "  78.56 &  27.78 & 0.65 \\\\\n",
      " 285.22 & 171.41 & 0.40 \\\\\n",
      "1312.14 & 686.12 & 0.48 \\\\\n",
      "  60.25 &  51.69 & 0.14 \\\\\n",
      "  29.45 &   3.25 & 0.89 \\\\\n",
      "1550.50 & 370.44 & 0.76 \\\\\n",
      "  32.53 &   7.91 & 0.76 \\\\\n",
      "  30.80 &   7.64 & 0.75 \\\\\n",
      " 782.41 & 403.11 & 0.48 \\\\\n",
      "1145.34 & 369.19 & 0.68 \\\\\n",
      " 134.12 &  30.80 & 0.77 \\\\\n",
      "  90.61 &   6.45 & 0.93 \\\\\n",
      " 302.45 & 109.69 & 0.64 \\\\\n",
      " 202.62 &  50.19 & 0.75 \\\\\n",
      "  84.50 &   8.03 & 0.90 \\\\\n",
      " 851.94 & 122.80 & 0.86 \\\\\n",
      " 135.50 &  31.95 & 0.76 \\\\\n",
      "  86.80 &  12.50 & 0.86 \\\\\n",
      " 380.23 & 144.50 & 0.62 \\\\\n",
      " 191.88 &  66.22 & 0.65 \\\\\n",
      " 217.33 &  23.25 & 0.89 \\\\\n",
      "  71.84 &  12.97 & 0.82 \\\\\n",
      "1198.19 & 588.50 & 0.51 \\\\\n",
      "  49.47 &  11.70 & 0.76 \\\\\n",
      " 842.56 & 161.00 & 0.81 \\\\\n",
      "1364.84 & 595.88 & 0.56 \\\\\n",
      " 268.20 &  96.95 & 0.64 \\\\\n",
      "\\bottomrule\n",
      "\\end{tabular}\n",
      "\n",
      "\\begin{tabular}{rrr}\n",
      "\\toprule\n",
      "    PhC &    RICM &   RA \\\\\n",
      "\\midrule\n",
      "4558.41 & 3330.28 & 0.27 \\\\\n",
      " 380.38 &   57.56 & 0.85 \\\\\n",
      " 195.19 &   39.19 & 0.80 \\\\\n",
      " 718.62 &  525.50 & 0.27 \\\\\n",
      "1225.36 &  810.52 & 0.34 \\\\\n",
      "  36.50 &   18.64 & 0.49 \\\\\n",
      " 139.03 &   57.41 & 0.59 \\\\\n",
      " 626.73 &  378.67 & 0.40 \\\\\n",
      "\\bottomrule\n",
      "\\end{tabular}\n",
      "\n"
     ]
    },
    {
     "name": "stderr",
     "output_type": "stream",
     "text": [
      "/tmp/ipykernel_56060/1837534303.py:3: FutureWarning: In future versions `DataFrame.to_latex` is expected to utilise the base implementation of `Styler.to_latex` for formatting and rendering. The arguments signature may therefore change. It is recommended instead to use `DataFrame.style.to_latex` which also contains additional functionality.\n",
      "  print(df_dppc5.round(2).to_latex(index=False))\n",
      "/tmp/ipykernel_56060/1837534303.py:4: FutureWarning: In future versions `DataFrame.to_latex` is expected to utilise the base implementation of `Styler.to_latex` for formatting and rendering. The arguments signature may therefore change. It is recommended instead to use `DataFrame.style.to_latex` which also contains additional functionality.\n",
      "  print(df_sopc5.round(2).to_latex(index=False))\n",
      "/tmp/ipykernel_56060/1837534303.py:5: FutureWarning: In future versions `DataFrame.to_latex` is expected to utilise the base implementation of `Styler.to_latex` for formatting and rendering. The arguments signature may therefore change. It is recommended instead to use `DataFrame.style.to_latex` which also contains additional functionality.\n",
      "  print(df_dppc3.round(2).to_latex(index=False))\n",
      "/tmp/ipykernel_56060/1837534303.py:6: FutureWarning: In future versions `DataFrame.to_latex` is expected to utilise the base implementation of `Styler.to_latex` for formatting and rendering. The arguments signature may therefore change. It is recommended instead to use `DataFrame.style.to_latex` which also contains additional functionality.\n",
      "  print(df_sopc3.round(2).to_latex(index=False))\n"
     ]
    }
   ],
   "source": [
    "# print(df_dppc5.round(2).style.hide(axis=\"index\").to_latex(hrules=True))\n",
    "\n",
    "print(df_dppc5.round(2).to_latex(index=False))\n",
    "print(df_sopc5.round(2).to_latex(index=False))\n",
    "print(df_dppc3.round(2).to_latex(index=False))\n",
    "print(df_sopc3.round(2).to_latex(index=False))"
   ]
  }
 ],
 "metadata": {
  "kernelspec": {
   "display_name": "Python 3 (ipykernel)",
   "language": "python",
   "name": "python3"
  },
  "language_info": {
   "codemirror_mode": {
    "name": "ipython",
    "version": 3
   },
   "file_extension": ".py",
   "mimetype": "text/x-python",
   "name": "python",
   "nbconvert_exporter": "python",
   "pygments_lexer": "ipython3",
   "version": "3.11.1"
  }
 },
 "nbformat": 4,
 "nbformat_minor": 5
}
