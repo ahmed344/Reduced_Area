{
 "cells": [
  {
   "cell_type": "code",
   "execution_count": null,
   "id": "deab596a-0249-444f-91b2-47a842b34e62",
   "metadata": {},
   "outputs": [],
   "source": [
    "import numpy as np\n",
    "import pandas as pd\n",
    "import matplotlib.pyplot as plt\n",
    "from scipy.stats import mannwhitneyu, median_abs_deviation\n",
    "\n",
    "# statistical annotation\n",
    "def p_annotation(p, x1, x2, y, h=0.005, color='k',linewidth=3, font=47):\n",
    "    plt.plot([x1, x1, x2, x2], [y, y+h, y+h, y], lw=linewidth, c=color)\n",
    "    plt.text((x1+x2)*.5, y+h, f'P = {p:.2f}', ha='center', va='bottom', color=color, fontsize=font)\n",
    "    \n",
    "def p__annotation(p, x1, x2, y, h=0.005, color='k',linewidth=3, font=47):\n",
    "    plt.plot([x1, x1, x2, x2], [y, y+h, y+h, y], lw=linewidth, c=color)\n",
    "    plt.text((x1+x2)*.5, y+h, f'P = {p:.5f}', ha='center', va='bottom', color=color, fontsize=font)"
   ]
  },
  {
   "cell_type": "markdown",
   "id": "4d388ae6-9098-4fd4-b6c6-ea568c9e1b67",
   "metadata": {},
   "source": [
    "### Read the data"
   ]
  },
  {
   "cell_type": "code",
   "execution_count": null,
   "id": "eee7bb5b-6d35-4592-ad8a-9da997779527",
   "metadata": {},
   "outputs": [],
   "source": [
    "# Read the csv files for each experiment\n",
    "csv_dppc5 = pd.read_csv('Data/20220111_RA_DPPC5.csv').astype(np.int64)\n",
    "csv_sopc5 = pd.read_csv('Data/20220111_RA_SOPC5.csv').astype(np.int64)\n",
    "\n",
    "csv_dppc3 = pd.read_csv('Data/20220722_RA_DPPC3.csv').astype(np.int64)\n",
    "csv_sopc3 = pd.read_csv('Data/20220513_RA_SOPC3.csv').astype(np.int64)\n",
    "\n",
    "csv_sopc2 = pd.read_csv('Data/20220125_RA_SOPC2.csv').astype(np.int64)"
   ]
  },
  {
   "cell_type": "markdown",
   "id": "baf738bf-8cad-4fae-ae3d-ac97881e664b",
   "metadata": {},
   "source": [
    "### Transform the csv files into data frames of Phase Contrast, RICM and Reduced Area."
   ]
  },
  {
   "cell_type": "code",
   "execution_count": null,
   "id": "19ecf0f8-09a5-4f91-baf0-9aed387b8b28",
   "metadata": {},
   "outputs": [],
   "source": [
    "# Make the dataframes from the csv giving the odd values to the phase contrast and the even values to the RICM (Don't forget to add the scale when you need it)\n",
    "df_dppc5 = pd.DataFrame({'PhC':csv_dppc5.iloc[::2].Area.values, 'RICM':csv_dppc5.iloc[1::2].Area.values})\n",
    "df_sopc5 = pd.DataFrame({'PhC':csv_sopc5.iloc[::2].Area.values, 'RICM':csv_sopc5.iloc[1::2].Area.values})\n",
    "\n",
    "df_dppc3 = pd.DataFrame({'PhC':csv_dppc3.iloc[::2].Area.values*0.125**2, 'RICM':csv_dppc3.iloc[1::2].Area.values*0.125**2}).astype(np.int64)\n",
    "df_sopc3 = pd.DataFrame({'PhC':csv_sopc3.iloc[::2].Area.values*0.125**2, 'RICM':csv_sopc3.iloc[1::2].Area.values*0.125**2}).astype(np.int64)\n",
    "\n",
    "df_sopc2 = pd.DataFrame({'PhC':csv_sopc2.iloc[::2].Area.values, 'RICM':csv_sopc2.iloc[1::2].Area.values})\n",
    "\n",
    "\n",
    "\n",
    "# # Calculate the average of the reduced area for every GUV on both SOPC and DPPC\n",
    "# df_dppc5['RA'] = (df_dppc5.PhC - df_dppc5.RICM) / df_dppc5.PhC\n",
    "# df_sopc5['RA'] = (df_sopc5.PhC - df_sopc5.RICM) / df_sopc5.PhC\n",
    "\n",
    "# df_dppc3['RA'] = (df_dppc3.PhC - df_dppc3.RICM) / df_dppc3.PhC\n",
    "# df_sopc3['RA'] = (df_sopc3.PhC - df_sopc3.RICM) / df_sopc3.PhC\n",
    "\n",
    "# df_sopc2['RA'] = (df_sopc2.PhC - df_sopc2.RICM) / df_sopc2.PhC\n",
    "\n",
    "\n",
    "# Calculate the average of the reduced area for every GUV on both SOPC and DPPC\n",
    "df_dppc5['RA'] = df_dppc5.RICM / df_dppc5.PhC\n",
    "df_sopc5['RA'] = df_sopc5.RICM / df_sopc5.PhC\n",
    "\n",
    "df_dppc3['RA'] = df_dppc3.RICM / df_dppc3.PhC\n",
    "df_sopc3['RA'] = df_sopc3.RICM / df_sopc3.PhC\n",
    "\n",
    "df_sopc2['RA'] = df_sopc2.RICM / df_sopc2.PhC"
   ]
  },
  {
   "cell_type": "markdown",
   "id": "d8e50683-88c9-4fc0-99dd-7691e9dded58",
   "metadata": {},
   "source": [
    "### Calculate the difference of reduced area between SOPC and DPPC in 5% concentration"
   ]
  },
  {
   "cell_type": "code",
   "execution_count": null,
   "id": "dad27e53-1e49-48d0-b3a1-e620dcdc8357",
   "metadata": {},
   "outputs": [
    {
     "name": "stdout",
     "output_type": "stream",
     "text": [
      "The Reduced area for SOPC = 0.85\n",
      "The Reduced area for DPPC = 0.73\n",
      "The difference is -0.17 %\n"
     ]
    }
   ],
   "source": [
    "# Calculate the average of the reduced area on both SOPC and DPPC\n",
    "RA_sopc5 = np.mean(df_sopc5.RA)\n",
    "RA_dppc5 = np.mean(df_dppc5.RA)\n",
    "\n",
    "print(f'The Reduced area for SOPC = {RA_sopc5:.2f}')\n",
    "print(f'The Reduced area for DPPC = {RA_dppc5:.2f}')\n",
    "print(f'The difference is {(RA_dppc5 - RA_sopc5)/RA_dppc5 :.2f} %')"
   ]
  },
  {
   "cell_type": "markdown",
   "id": "59bfbe41-d319-4fb0-8aea-d95ec71aaac8",
   "metadata": {},
   "source": [
    "### Calculate the difference of reduced area between SOPC and DPPC in 3% concentration"
   ]
  },
  {
   "cell_type": "code",
   "execution_count": null,
   "id": "65600983-f5e1-44e3-9f8a-bccbceac8e0e",
   "metadata": {},
   "outputs": [
    {
     "name": "stdout",
     "output_type": "stream",
     "text": [
      "The Reduced area for SOPC = 0.50\n",
      "The Reduced area for DPPC = 0.29\n",
      "The difference is -0.69 %\n"
     ]
    }
   ],
   "source": [
    "# Calculate the average of the reduced area on both SOPC and DPPC\n",
    "RA_sopc3 = np.mean(df_sopc3.RA)\n",
    "RA_dppc3 = np.mean(df_dppc3.RA)\n",
    "\n",
    "print(f'The Reduced area for SOPC = {RA_sopc3:.2f}')\n",
    "print(f'The Reduced area for DPPC = {RA_dppc3:.2f}')\n",
    "print(f'The difference is {(RA_dppc3 - RA_sopc3)/RA_dppc3 :.2f} %')"
   ]
  },
  {
   "cell_type": "markdown",
   "id": "e73407ed-cfe0-49cd-877f-7dea3db528db",
   "metadata": {},
   "source": [
    "### Calculate the difference of reduced area between 3% and 5% concentration on both SOPC and DPPC"
   ]
  },
  {
   "cell_type": "code",
   "execution_count": null,
   "id": "1c6b6060-8758-4f8e-a989-ce4e8e429277",
   "metadata": {},
   "outputs": [
    {
     "name": "stdout",
     "output_type": "stream",
     "text": [
      "The difference for SOPC is -0.70 %\n",
      "The difference for DPPC is -1.47 %\n"
     ]
    }
   ],
   "source": [
    "print(f'The difference for SOPC is {(RA_sopc3 - RA_sopc5)/RA_sopc3 :.2f} %')\n",
    "print(f'The difference for DPPC is {(RA_dppc3 - RA_dppc5)/RA_dppc3 :.2f} %')"
   ]
  },
  {
   "cell_type": "code",
   "execution_count": null,
   "id": "89df9e9d-e35e-4271-8c37-f7a8d70c1d0a",
   "metadata": {},
   "outputs": [
    {
     "name": "stdout",
     "output_type": "stream",
     "text": [
      "The Reduced area for SOPC = 0.41\n"
     ]
    }
   ],
   "source": [
    "# Calculate the average of the reduced area on the SOPC\n",
    "RA_sopc2 = np.mean(df_sopc2.RA)\n",
    "\n",
    "print(f'The Reduced area for SOPC = {RA_sopc2:.2f}')"
   ]
  },
  {
   "cell_type": "markdown",
   "id": "74e466d5-f5cc-40db-a1b9-7a4986c90867",
   "metadata": {},
   "source": [
    "### Calculate the Mann-Whitney U test P-value for the difference between DPPC and SOPC in reduced area for both 5% and 3% concentration"
   ]
  },
  {
   "cell_type": "code",
   "execution_count": null,
   "id": "0f4f1444-2eac-4a1b-adf4-72c81d27d197",
   "metadata": {},
   "outputs": [
    {
     "name": "stdout",
     "output_type": "stream",
     "text": [
      "The Mann-Whitney U test P-value\n",
      "SOPC 5% vs DPPC 5% = 0.44019\n",
      "SOPC 3% vs DPPC 3% = 0.02239\n",
      "SOPC 5% vs SOPC 3% = 0.00654\n",
      "DPPC 5% vs DPPC 3% = 0.00008\n"
     ]
    }
   ],
   "source": [
    "# Calculate the Mann-Whitney U test P-value\n",
    "_, p5 = mannwhitneyu(df_dppc5.RA.values, df_sopc5.RA.values)\n",
    "_, p3 = mannwhitneyu(df_dppc3.RA.values, df_sopc3.RA.values)\n",
    "\n",
    "_, p_sopc = mannwhitneyu(df_sopc5.RA.values, df_sopc3.RA.values)\n",
    "_, p_dppc = mannwhitneyu(df_dppc5.RA.values, df_dppc3.RA.values)\n",
    "\n",
    "print(f'The Mann-Whitney U test P-value')\n",
    "print(f'SOPC 5% vs DPPC 5% = {p5:.5f}')\n",
    "print(f'SOPC 3% vs DPPC 3% = {p3:.5f}')\n",
    "print(f'SOPC 5% vs SOPC 3% = {p_sopc:.5f}')\n",
    "print(f'DPPC 5% vs DPPC 3% = {p_dppc:.5f}')"
   ]
  },
  {
   "cell_type": "markdown",
   "id": "17fb84fa-a04b-4795-bc02-f8b4933099e4",
   "metadata": {},
   "source": [
    "### Plot box plots"
   ]
  },
  {
   "cell_type": "code",
   "execution_count": 19,
   "id": "86c69a75-2b77-4a01-89dd-ebf6e40aec6b",
   "metadata": {},
   "outputs": [
    {
     "data": {
      "image/png": "[encoded data removed]",
      "text/plain": [
       "<Figure size 1000x800 with 1 Axes>"
      ]
     },
     "metadata": {},
     "output_type": "display_data"
    }
   ],
   "source": [
    "# statistical annotation\n",
    "def p_annotation(p, x1, x2, y, h=0.005, color='k',linewidth=3, font=18):\n",
    "    plt.plot([x1, x1, x2, x2], [y, y+h, y+h, y], lw=linewidth, c=color)\n",
    "    plt.text((x1+x2)*.5, y+h, f'P = {p:.2f}', ha='center', va='bottom', color=color, fontsize=font)\n",
    "    \n",
    "def p__annotation(p, x1, x2, y, h=0.005, color='k',linewidth=3, font=18):\n",
    "    plt.plot([x1, x1, x2, x2], [y, y+h, y+h, y], lw=linewidth, c=color)\n",
    "    plt.text((x1+x2)*.5, y+h, f'P = {p:.5f}', ha='center', va='bottom', color=color, fontsize=font)\n",
    "\n",
    "# Extract the reduced area from the data frames\n",
    "ra_sopc5 = df_sopc5.RA.values\n",
    "ra_sopc3 = df_sopc3.RA.values\n",
    "ra_dppc5 = df_dppc5.RA.values\n",
    "ra_dppc3 = df_dppc3.RA.values\n",
    "\n",
    "\n",
    "plt.figure(figsize=(10,8))     # 16.54,20\n",
    "\n",
    "# Define the boxes\n",
    "bp = plt.boxplot([ra_sopc5, ra_sopc3, ra_dppc5, ra_dppc3],\n",
    "                labels = ['Fluid\\n 5%', 'Fluid\\n 3%', 'Fixed\\n 5%', 'Fixed\\n 3%'],\n",
    "                whis = 3.5,\n",
    "                widths = 0.5,\n",
    "                patch_artist=True);\n",
    "\n",
    "# Customize the boxes\n",
    "bp['boxes'][0].set(color='blue', linewidth=4, alpha=0.5)\n",
    "bp['boxes'][1].set(color='blue', linewidth=4, alpha=0.3)\n",
    "bp['boxes'][2].set(color='red' , linewidth=4, alpha=0.5)\n",
    "bp['boxes'][3].set(color='red' , linewidth=4, alpha=0.3)\n",
    "\n",
    "# Customize the Median line\n",
    "bp['medians'][0].set(color='blue', linewidth=4, alpha=0.5)\n",
    "bp['medians'][1].set(color='blue', linewidth=4, alpha=0.3)\n",
    "bp['medians'][2].set(color='red' , linewidth=4, alpha=0.5)\n",
    "bp['medians'][3].set(color='red' , linewidth=4, alpha=0.3)\n",
    "\n",
    "\n",
    "# Plot the scattered points\n",
    "plt.scatter(x = [1] * len(ra_sopc5), y = ra_sopc5, color='blue', s=100, alpha=0.6, label='Human cadherin on fluid 5%')\n",
    "plt.scatter(x = [2] * len(ra_sopc3), y = ra_sopc3, color='blue', s=100, alpha=0.4, label='Human cadherin on fluid 3%')\n",
    "plt.scatter(x = [3] * len(ra_dppc5), y = ra_dppc5, color='red' , s=100, alpha=0.6, label='Human cadherin on fixed 5%')\n",
    "plt.scatter(x = [4] * len(ra_dppc3), y = ra_dppc3, color='red' , s=100, alpha=0.4, label='Human cadherin on fixed 3%')\n",
    "\n",
    "# statistical annotation\n",
    "p_annotation(p_sopc, 1, 2, df_sopc5.RA.max() + 0.05, color='blue')\n",
    "p__annotation(p_dppc, 3, 4, df_dppc5.RA.max() + 0.05, color='red' )\n",
    "p_annotation(p5    , 1, 3, df_dppc5.RA.max() + 0.12, color='purple')\n",
    "p_annotation(p3    , 2, 4, df_dppc5.RA.max() + 0.2 , color='purple')\n",
    "\n",
    "# Customize the table\n",
    "plt.ylabel('$A_{r}$', fontsize=20)\n",
    "plt.xticks(fontsize=20)\n",
    "plt.ylim((-0.05 ,1.3))\n",
    "plt.yticks(np.arange(0, 1.1, 0.2), fontsize=20)\n",
    "# plt.title('Reduced area with different cadherin concentration on fluid and fixed SLBs', fontsize=23)\n",
    "plt.grid(alpha=0.5)\n",
    "# plt.legend(fontsize='xx-large', loc='upper left')\n",
    "plt.tight_layout()\n",
    "\n",
    "# Save the figure\n",
    "plt.savefig(\"boxplot_reduced_area_separated.png\")\n",
    "plt.show()"
   ]
  },
  {
   "cell_type": "code",
   "execution_count": null,
   "id": "7268300a-511f-420a-b5d7-6087043e6194",
   "metadata": {},
   "outputs": [],
   "source": [
    "reduced_area = pd.DataFrame({"
   ]
  },
  {
   "cell_type": "markdown",
   "id": "cd299dbd-36e4-41aa-98c9-106faaf068fc",
   "metadata": {},
   "source": [
    "### Print the data fram in latex formate"
   ]
  },
  {
   "cell_type": "code",
   "execution_count": 10,
   "id": "65f92cee-712d-4045-ac81-af4781466a48",
   "metadata": {},
   "outputs": [
    {
     "name": "stdout",
     "output_type": "stream",
     "text": [
      "\\begin{tabular}{rrr}\n",
      "\\toprule\n",
      " PhC &  RICM &   RA \\\\\n",
      "\\midrule\n",
      " 164 &    62 & 0.62 \\\\\n",
      "  52 &    52 & 0.00 \\\\\n",
      "  40 &    40 & 0.00 \\\\\n",
      " 212 &    52 & 0.75 \\\\\n",
      "  52 &    32 & 0.38 \\\\\n",
      " 223 &   223 & 0.00 \\\\\n",
      "  57 &    57 & 0.00 \\\\\n",
      " 350 &   105 & 0.70 \\\\\n",
      "  48 &    11 & 0.77 \\\\\n",
      "  94 &    94 & 0.00 \\\\\n",
      "  16 &    16 & 0.00 \\\\\n",
      "  29 &    29 & 0.00 \\\\\n",
      "  51 &    32 & 0.37 \\\\\n",
      "  86 &    86 & 0.00 \\\\\n",
      "  72 &    72 & 0.00 \\\\\n",
      " 117 &    26 & 0.78 \\\\\n",
      "\\bottomrule\n",
      "\\end{tabular}\n",
      "\n",
      "\\begin{tabular}{rrr}\n",
      "\\toprule\n",
      " PhC &  RICM &   RA \\\\\n",
      "\\midrule\n",
      " 776 &   522 & 0.33 \\\\\n",
      " 205 &   205 & 0.00 \\\\\n",
      " 237 &   237 & 0.00 \\\\\n",
      " 544 &   482 & 0.11 \\\\\n",
      " 350 &   350 & 0.00 \\\\\n",
      " 345 &   138 & 0.60 \\\\\n",
      " 363 &   363 & 0.00 \\\\\n",
      " 145 &    68 & 0.53 \\\\\n",
      " 215 &   162 & 0.25 \\\\\n",
      " 356 &   356 & 0.00 \\\\\n",
      "   7 &     7 & 0.00 \\\\\n",
      "   5 &     5 & 0.00 \\\\\n",
      "\\bottomrule\n",
      "\\end{tabular}\n",
      "\n",
      "\\begin{tabular}{rrr}\n",
      "\\toprule\n",
      " PhC &  RICM &   RA \\\\\n",
      "\\midrule\n",
      " 649 &    80 & 0.88 \\\\\n",
      " 155 &    39 & 0.75 \\\\\n",
      " 263 &   158 & 0.40 \\\\\n",
      " 786 &    73 & 0.91 \\\\\n",
      " 442 &    84 & 0.81 \\\\\n",
      "  78 &    27 & 0.65 \\\\\n",
      " 285 &   171 & 0.40 \\\\\n",
      "1312 &   686 & 0.48 \\\\\n",
      "  60 &    51 & 0.15 \\\\\n",
      "  29 &     3 & 0.90 \\\\\n",
      "1550 &   370 & 0.76 \\\\\n",
      "  32 &     7 & 0.78 \\\\\n",
      "  30 &     7 & 0.77 \\\\\n",
      " 782 &   403 & 0.48 \\\\\n",
      "1145 &   369 & 0.68 \\\\\n",
      " 134 &    30 & 0.78 \\\\\n",
      "  90 &     6 & 0.93 \\\\\n",
      " 302 &   109 & 0.64 \\\\\n",
      " 202 &    50 & 0.75 \\\\\n",
      "  84 &     8 & 0.90 \\\\\n",
      " 851 &   122 & 0.86 \\\\\n",
      " 135 &    31 & 0.77 \\\\\n",
      "  86 &    12 & 0.86 \\\\\n",
      " 380 &   144 & 0.62 \\\\\n",
      " 191 &    66 & 0.65 \\\\\n",
      " 217 &    23 & 0.89 \\\\\n",
      "  71 &    12 & 0.83 \\\\\n",
      "1198 &   588 & 0.51 \\\\\n",
      "  49 &    11 & 0.78 \\\\\n",
      " 842 &   161 & 0.81 \\\\\n",
      "1364 &   595 & 0.56 \\\\\n",
      " 268 &    96 & 0.64 \\\\\n",
      "\\bottomrule\n",
      "\\end{tabular}\n",
      "\n",
      "\\begin{tabular}{rrr}\n",
      "\\toprule\n",
      " PhC &  RICM &   RA \\\\\n",
      "\\midrule\n",
      "4558 &  3330 & 0.27 \\\\\n",
      " 380 &    57 & 0.85 \\\\\n",
      " 195 &    39 & 0.80 \\\\\n",
      " 718 &   525 & 0.27 \\\\\n",
      "1225 &   810 & 0.34 \\\\\n",
      "  36 &    18 & 0.50 \\\\\n",
      " 139 &    57 & 0.59 \\\\\n",
      " 626 &   378 & 0.40 \\\\\n",
      "\\bottomrule\n",
      "\\end{tabular}\n",
      "\n"
     ]
    },
    {
     "name": "stderr",
     "output_type": "stream",
     "text": [
      "/tmp/ipykernel_85867/1837534303.py:3: FutureWarning: In future versions `DataFrame.to_latex` is expected to utilise the base implementation of `Styler.to_latex` for formatting and rendering. The arguments signature may therefore change. It is recommended instead to use `DataFrame.style.to_latex` which also contains additional functionality.\n",
      "  print(df_dppc5.round(2).to_latex(index=False))\n",
      "/tmp/ipykernel_85867/1837534303.py:4: FutureWarning: In future versions `DataFrame.to_latex` is expected to utilise the base implementation of `Styler.to_latex` for formatting and rendering. The arguments signature may therefore change. It is recommended instead to use `DataFrame.style.to_latex` which also contains additional functionality.\n",
      "  print(df_sopc5.round(2).to_latex(index=False))\n",
      "/tmp/ipykernel_85867/1837534303.py:5: FutureWarning: In future versions `DataFrame.to_latex` is expected to utilise the base implementation of `Styler.to_latex` for formatting and rendering. The arguments signature may therefore change. It is recommended instead to use `DataFrame.style.to_latex` which also contains additional functionality.\n",
      "  print(df_dppc3.round(2).to_latex(index=False))\n",
      "/tmp/ipykernel_85867/1837534303.py:6: FutureWarning: In future versions `DataFrame.to_latex` is expected to utilise the base implementation of `Styler.to_latex` for formatting and rendering. The arguments signature may therefore change. It is recommended instead to use `DataFrame.style.to_latex` which also contains additional functionality.\n",
      "  print(df_sopc3.round(2).to_latex(index=False))\n"
     ]
    }
   ],
   "source": [
    "# print(df_dppc5.round(2).style.hide(axis=\"index\").to_latex(hrules=True))\n",
    "\n",
    "print(df_dppc5.round(2).to_latex(index=False))\n",
    "print(df_sopc5.round(2).to_latex(index=False))\n",
    "print(df_dppc3.round(2).to_latex(index=False))\n",
    "print(df_sopc3.round(2).to_latex(index=False))"
   ]
  },
  {
   "cell_type": "code",
   "execution_count": null,
   "id": "244e50d1-2743-4928-8f49-55e1cd1d2d9a",
   "metadata": {},
   "outputs": [],
   "source": []
  }
 ],
 "metadata": {
  "kernelspec": {
   "display_name": "Python 3 (ipykernel)",
   "language": "python",
   "name": "python3"
  },
  "language_info": {
   "codemirror_mode": {
    "name": "ipython",
    "version": 3
   },
   "file_extension": ".py",
   "mimetype": "text/x-python",
   "name": "python",
   "nbconvert_exporter": "python",
   "pygments_lexer": "ipython3",
   "version": "3.10.11"
  }
 },
 "nbformat": 4,
 "nbformat_minor": 5
}
